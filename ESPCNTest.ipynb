{
 "cells": [
  {
   "cell_type": "code",
   "execution_count": 1,
   "metadata": {},
   "outputs": [
    {
     "name": "stdout",
     "output_type": "stream",
     "text": [
      "(1798, 1080, 1920, 3)\n"
     ]
    }
   ],
   "source": [
    "import cv2\n",
    "import numpy as np\n",
    "\n",
    "def LoadVideoFrames(path):\n",
    "    videoCapture = cv2.VideoCapture(path)\n",
    "\n",
    "    if not videoCapture.isOpened():\n",
    "        raise IOError(f\"Cannot open video file: {path}\")\n",
    "    \n",
    "    frameList = []\n",
    "\n",
    "    while True:\n",
    "        bSuccess, frame = videoCapture.read()\n",
    "\n",
    "        if not bSuccess:\n",
    "            break\n",
    "\n",
    "        frameRGB = cv2.cvtColor(frame, cv2.COLOR_BGR2RGB)\n",
    "        frameList.append(frameRGB)\n",
    "\n",
    "    videoCapture.release()\n",
    "\n",
    "    result = np.array(frameList)\n",
    "\n",
    "    return result\n",
    "\n",
    "frames = LoadVideoFrames(\"./Data/Baseball.mp4\")\n",
    "print(frames.shape)"
   ]
  },
  {
   "cell_type": "code",
   "execution_count": 2,
   "metadata": {},
   "outputs": [],
   "source": [
    "def ShowFrames(frames):\n",
    "    for frame in frames:\n",
    "        frameBGR = cv2.cvtColor(frame, cv2.COLOR_RGB2BGR)\n",
    "        \n",
    "        cv2.imshow(\"Video Frame\", frameBGR)\n",
    "\n",
    "        if cv2.waitKey(10) & 0xFF == ord('q'):\n",
    "            break;\n",
    "\n",
    "    cv2.destroyAllWindows()"
   ]
  },
  {
   "cell_type": "code",
   "execution_count": 20,
   "metadata": {},
   "outputs": [],
   "source": [
    "ShowFrames(frames)"
   ]
  },
  {
   "cell_type": "code",
   "execution_count": 4,
   "metadata": {},
   "outputs": [
    {
     "name": "stdout",
     "output_type": "stream",
     "text": [
      "Using 'cuda' device\n"
     ]
    }
   ],
   "source": [
    "import torch\n",
    "import torch.nn.functional as F\n",
    "\n",
    "device = \"cuda\" if torch.cuda.is_available else \"cpu\"\n",
    "print(f\"Using '{device}' device\")"
   ]
  },
  {
   "cell_type": "code",
   "execution_count": 5,
   "metadata": {},
   "outputs": [
    {
     "name": "stdout",
     "output_type": "stream",
     "text": [
      "(1798, 360, 640, 3)\n"
     ]
    }
   ],
   "source": [
    "def DownscaleFrames(frames):\n",
    "    SPLIT_COUNT = 32\n",
    "\n",
    "    count = int(np.ceil(frames.shape[0] / SPLIT_COUNT))\n",
    "\n",
    "    # (프레임수, 높이, 너비, 채널) -> (프레임수, 채널, 높이, 너비)\n",
    "    frameTensor = torch.from_numpy(frames[0:count]).permute(0, 3, 1, 2).float() / 255.0\n",
    "\n",
    "    if torch.cuda.is_available:\n",
    "        frameTensor = frameTensor.to(\"cuda\")\n",
    "\n",
    "    downscaledTensor = F.interpolate(frameTensor, size = (360, 640), mode = \"area\")\n",
    "    downscaledFrames = (downscaledTensor * 255).byte().permute(0, 2, 3, 1).cpu().numpy()\n",
    "\n",
    "    result = downscaledFrames\n",
    "\n",
    "    for i in range(1, SPLIT_COUNT):\n",
    "        begin = i * count\n",
    "        end = begin + count\n",
    "\n",
    "        if end > frames.shape[0]:\n",
    "            end = frames.shape[0]\n",
    "\n",
    "        frameTensor = torch.from_numpy(frames[begin:end]).permute(0, 3, 1, 2).float() / 255.0\n",
    "\n",
    "        if torch.cuda.is_available:\n",
    "            frameTensor = frameTensor.to(\"cuda\")\n",
    "\n",
    "        downscaledTensor = F.interpolate(frameTensor, size = (360, 640), mode = \"area\")\n",
    "        downscaledFrames = (downscaledTensor * 255).byte().permute(0, 2, 3, 1).cpu().numpy()\n",
    "\n",
    "        result = np.concatenate((result, downscaledFrames), axis = 0)\n",
    "\n",
    "    return result\n",
    "\n",
    "downscaledFrames = DownscaleFrames(frames)\n",
    "print(downscaledFrames.shape)"
   ]
  },
  {
   "cell_type": "code",
   "execution_count": 21,
   "metadata": {},
   "outputs": [],
   "source": [
    "ShowFrames(downscaledFrames)"
   ]
  },
  {
   "cell_type": "code",
   "execution_count": 1,
   "metadata": {},
   "outputs": [],
   "source": [
    "import torch.nn as nn\n",
    "\n",
    "class ESPCN(nn.Module):\n",
    "    def __init__(self, scaleFactor):\n",
    "        super(ESPCN, self).__init__()\n",
    "        self.layers = nn.Sequential(\n",
    "            nn.Conv2d(1, 64, kernel_size = 5, padding = 2), \n",
    "            nn.Tanh(), \n",
    "            nn.Conv2d(64, 32, kernel_size = 3, padding = 1), \n",
    "            nn.Tanh(), \n",
    "            nn.Conv2d(32, scaleFactor ** 2, kernel_size = 3, padding = 1), \n",
    "            nn.PixelShuffle(scaleFactor)\n",
    "        )\n",
    "\n",
    "    def forward(self, x):\n",
    "        return self.layers(x)"
   ]
  },
  {
   "cell_type": "code",
   "execution_count": null,
   "metadata": {},
   "outputs": [
    {
     "name": "stdout",
     "output_type": "stream",
     "text": [
      "Epoch: 0, Loss: 1.2759526844602078\n",
      "Epoch: 1, Loss: 0.24084335431689397\n",
      "Epoch: 2, Loss: 0.15981913701398298\n",
      "Epoch: 3, Loss: 0.12406829014071263\n",
      "Epoch: 4, Loss: 0.10814596191630699\n",
      "Epoch: 5, Loss: 0.0987334126548376\n",
      "Epoch: 6, Loss: 0.09314719200483523\n",
      "Epoch: 7, Loss: 0.08902086643502116\n",
      "Epoch: 8, Loss: 0.08506300006411038\n",
      "Epoch: 9, Loss: 0.08096390042919666\n"
     ]
    }
   ],
   "source": [
    "def TrainESPCN(frames360, frames1080, scaleFactor = 3, numEpochs = 10, batchSize = 4):\n",
    "    model = ESPCN(scaleFactor).cuda()\n",
    "    criterion = nn.MSELoss()\n",
    "    optimizer = torch.optim.Adam(model.parameters())\n",
    "\n",
    "    frameCount = len(frames1080)\n",
    "\n",
    "    model.train()\n",
    "    for epoch in range(numEpochs):\n",
    "        totalLoss = 0.0\n",
    "\n",
    "        for i in range(0, frameCount, batchSize):\n",
    "            end = i + batchSize\n",
    "            if end > frameCount:\n",
    "                end = frameCount\n",
    "\n",
    "            inputBatch = frames360[i:end]\n",
    "            targetBatch = frames1080[i:end]\n",
    "\n",
    "            inputYFrames = []\n",
    "            targetYFrames = []\n",
    "            for j in range(len(inputBatch)):\n",
    "                inputYCrCb = cv2.cvtColor(inputBatch[j], cv2.COLOR_RGB2YCrCb)\n",
    "                targetYCrCb = cv2.cvtColor(targetBatch[j], cv2.COLOR_RGB2YCrCb)\n",
    "\n",
    "                inputY = inputYCrCb[:, :, 0]\n",
    "                targetY = targetYCrCb[:, :, 0]\n",
    "\n",
    "                inputYFrames.append(inputY)\n",
    "                targetYFrames.append(targetY)\n",
    "\n",
    "            inputYFrames = np.array(inputYFrames)\n",
    "            targetYFrames = np.array(targetYFrames)\n",
    "\n",
    "            inputTensor = (torch.from_numpy(inputYFrames).float().unsqueeze(1) / 255.0).cuda()\n",
    "            targetTensor = (torch.from_numpy(targetYFrames).float().unsqueeze(1) / 255.0).cuda()\n",
    "\n",
    "            output = model(inputTensor)\n",
    "            loss = criterion(output, targetTensor)\n",
    "\n",
    "            optimizer.zero_grad()\n",
    "            loss.backward()\n",
    "            optimizer.step()\n",
    "\n",
    "            totalLoss += loss.item()\n",
    "\n",
    "            del inputTensor, targetTensor, output\n",
    "            torch.cuda.empty_cache()\n",
    "\n",
    "        print(f\"Epoch: {epoch}, Loss: {totalLoss}\")\n",
    "    \n",
    "    return model\n",
    "\n",
    "trainedModel = TrainESPCN(downscaledFrames, frames, batchSize = 16)"
   ]
  },
  {
   "cell_type": "code",
   "execution_count": 11,
   "metadata": {},
   "outputs": [],
   "source": [
    "torch.save(trainedModel.state_dict(), \"ESPCN.pth\")"
   ]
  },
  {
   "cell_type": "code",
   "execution_count": 8,
   "metadata": {},
   "outputs": [],
   "source": [
    "def LoadModel(path, scaleFactor):\n",
    "    model = ESPCN(scaleFactor)\n",
    "    model.load_state_dict(torch.load(path, map_location = \"cuda\"))\n",
    "    model = model.cuda()\n",
    "    model.eval()\n",
    "\n",
    "    return model"
   ]
  },
  {
   "cell_type": "code",
   "execution_count": 9,
   "metadata": {},
   "outputs": [],
   "source": [
    "def GetSRFrames(model, frames, scaleFactor):\n",
    "    upscaledFrames = []\n",
    "\n",
    "    for frame in frames:\n",
    "        yCrCb = cv2.cvtColor(frame, cv2.COLOR_RGB2YCrCb)\n",
    "        y = yCrCb[:, :, 0]\n",
    "        cr = yCrCb[:, :, 1]\n",
    "        cb = yCrCb[:, :, 2]\n",
    "\n",
    "        yTensor = torch.from_numpy(y).float().unsqueeze(0).unsqueeze(0) / 255.0\n",
    "        yTensor = yTensor.cuda()\n",
    "\n",
    "        with torch.no_grad():\n",
    "            outputY = model(yTensor).clamp(0.0, 1.0)\n",
    "\n",
    "        outputY = outputY.squeeze().cpu().numpy() * 255.0\n",
    "        outputY = outputY.astype(np.uint8)\n",
    "\n",
    "        height, width = outputY.shape\n",
    "        crUp = cv2.resize(cr, (width, height), interpolation = cv2.INTER_CUBIC)\n",
    "        cbUp = cv2.resize(cb, (width, height), interpolation = cv2.INTER_CUBIC)\n",
    "\n",
    "        yCrCbUp = cv2.merge([outputY, crUp, cbUp])\n",
    "        rgbUpscaled = cv2.cvtColor(yCrCbUp, cv2.COLOR_YCrCb2RGB)\n",
    "\n",
    "        upscaledFrames.append(rgbUpscaled)\n",
    "\n",
    "    return np.array(upscaledFrames)"
   ]
  },
  {
   "cell_type": "code",
   "execution_count": 10,
   "metadata": {},
   "outputs": [
    {
     "name": "stderr",
     "output_type": "stream",
     "text": [
      "C:\\Users\\redbi\\AppData\\Local\\Temp\\ipykernel_9076\\898016537.py:3: FutureWarning: You are using `torch.load` with `weights_only=False` (the current default value), which uses the default pickle module implicitly. It is possible to construct malicious pickle data which will execute arbitrary code during unpickling (See https://github.com/pytorch/pytorch/blob/main/SECURITY.md#untrusted-models for more details). In a future release, the default value for `weights_only` will be flipped to `True`. This limits the functions that could be executed during unpickling. Arbitrary objects will no longer be allowed to be loaded via this mode unless they are explicitly allowlisted by the user via `torch.serialization.add_safe_globals`. We recommend you start setting `weights_only=True` for any use case where you don't have full control of the loaded file. Please open an issue on GitHub for any issues related to this experimental feature.\n",
      "  model.load_state_dict(torch.load(path, map_location = \"cuda\"))\n"
     ]
    }
   ],
   "source": [
    "model = LoadModel(\"ESPCN.pth\", 3)\n",
    "# superResolutionFrames = GetSRFrames(model, downscaledFrames, 3)\n",
    "# print(superResolutionFrames)"
   ]
  },
  {
   "cell_type": "code",
   "execution_count": 11,
   "metadata": {},
   "outputs": [],
   "source": [
    "for i in range(len(frames)):\n",
    "    original = frames[i]\n",
    "    sr = superResolutionFrames[i]\n",
    "\n",
    "    # RGB → BGR (OpenCV는 BGR 사용)\n",
    "    originalBgr = cv2.cvtColor(original, cv2.COLOR_RGB2BGR)\n",
    "    srBgr = cv2.cvtColor(sr, cv2.COLOR_RGB2BGR)\n",
    "    # 창에 출력\n",
    "    cv2.imshow(\"Original Frame\", originalBgr)\n",
    "    cv2.imshow(\"sr Frame\", srBgr)\n",
    "\n",
    "    if cv2.waitKey(33) & 0xFF == ord('q'):\n",
    "        break\n",
    "\n",
    "cv2.destroyAllWindows()"
   ]
  },
  {
   "cell_type": "code",
   "execution_count": 13,
   "metadata": {},
   "outputs": [
    {
     "name": "stdout",
     "output_type": "stream",
     "text": [
      "완료\n"
     ]
    }
   ],
   "source": [
    "# 영상 저장\n",
    "height, width = frames[0].shape[:2]\n",
    "size = (width, height)\n",
    "\n",
    "fourcc = cv2.VideoWriter_fourcc(*'mp4v')\n",
    "writer = cv2.VideoWriter(\"./Data/srVideo.mp4\", fourcc, 60, size)\n",
    "\n",
    "for frame in superResolutionFrames:\n",
    "    bgrFrame = cv2.cvtColor(frame, cv2.COLOR_RGB2BGR)\n",
    "    writer.write(bgrFrame)\n",
    "\n",
    "writer.release()\n",
    "print(\"완료\")"
   ]
  },
  {
   "cell_type": "code",
   "execution_count": 22,
   "metadata": {},
   "outputs": [],
   "source": [
    "def ShowSRFrames(model, frames, scaleFactor):\n",
    "    for frame in frames:\n",
    "        yCrCb = cv2.cvtColor(frame, cv2.COLOR_RGB2YCrCb)\n",
    "        y = yCrCb[:, :, 0]\n",
    "        cr = yCrCb[:, :, 1]\n",
    "        cb = yCrCb[:, :, 2]\n",
    "\n",
    "        yTensor = torch.from_numpy(y).float().unsqueeze(0).unsqueeze(0) / 255.0\n",
    "        yTensor = yTensor.cuda()\n",
    "\n",
    "        with torch.no_grad():\n",
    "            outputY = model(yTensor).clamp(0.0, 1.0)\n",
    "\n",
    "        outputY = outputY.squeeze().cpu().numpy() * 255.0\n",
    "        outputY = outputY.astype(np.uint8)\n",
    "\n",
    "        height, width = outputY.shape\n",
    "        crUp = cv2.resize(cr, (width, height), interpolation = cv2.INTER_CUBIC)\n",
    "        cbUp = cv2.resize(cb, (width, height), interpolation = cv2.INTER_CUBIC)\n",
    "\n",
    "        yCrCbUp = cv2.merge([outputY, crUp, cbUp])\n",
    "        rgbUpscaled = cv2.cvtColor(yCrCbUp, cv2.COLOR_YCrCb2BGR)\n",
    "###################################################################################\n",
    "        cv2.imshow(\"SuperResolution\", rgbUpscaled)\n",
    "        \n",
    "        if cv2.waitKey(33) & 0xFF == ord('q'):\n",
    "            break;\n",
    "\n",
    "    cv2.destroyAllWindows()\n",
    "\n",
    "ShowSRFrames(model, downscaledFrames, 3)"
   ]
  },
  {
   "cell_type": "code",
   "execution_count": 3,
   "metadata": {},
   "outputs": [],
   "source": [
    "import cv2\n",
    "import numpy as np\n",
    "import torch\n",
    "import torch.nn.functional as F"
   ]
  },
  {
   "cell_type": "code",
   "execution_count": 3,
   "metadata": {},
   "outputs": [
    {
     "name": "stdout",
     "output_type": "stream",
     "text": [
      "Using 'cuda' device\n"
     ]
    },
    {
     "ename": "KeyboardInterrupt",
     "evalue": "",
     "output_type": "error",
     "traceback": [
      "\u001b[1;31m---------------------------------------------------------------------------\u001b[0m",
      "\u001b[1;31mKeyboardInterrupt\u001b[0m                         Traceback (most recent call last)",
      "Cell \u001b[1;32mIn[3], line 85\u001b[0m\n\u001b[0;32m     82\u001b[0m loss \u001b[38;5;241m=\u001b[39m criterion(output, targetTensor)\n\u001b[0;32m     84\u001b[0m optimizer\u001b[38;5;241m.\u001b[39mzero_grad()\n\u001b[1;32m---> 85\u001b[0m \u001b[43mloss\u001b[49m\u001b[38;5;241;43m.\u001b[39;49m\u001b[43mbackward\u001b[49m\u001b[43m(\u001b[49m\u001b[43m)\u001b[49m\n\u001b[0;32m     86\u001b[0m optimizer\u001b[38;5;241m.\u001b[39mstep()\n\u001b[0;32m     88\u001b[0m totalLoss \u001b[38;5;241m+\u001b[39m\u001b[38;5;241m=\u001b[39m loss\u001b[38;5;241m.\u001b[39mitem()\n",
      "File \u001b[1;32mc:\\Users\\redbi\\AppData\\Local\\Programs\\Python\\Python312\\Lib\\site-packages\\torch\\_tensor.py:581\u001b[0m, in \u001b[0;36mTensor.backward\u001b[1;34m(self, gradient, retain_graph, create_graph, inputs)\u001b[0m\n\u001b[0;32m    571\u001b[0m \u001b[38;5;28;01mif\u001b[39;00m has_torch_function_unary(\u001b[38;5;28mself\u001b[39m):\n\u001b[0;32m    572\u001b[0m     \u001b[38;5;28;01mreturn\u001b[39;00m handle_torch_function(\n\u001b[0;32m    573\u001b[0m         Tensor\u001b[38;5;241m.\u001b[39mbackward,\n\u001b[0;32m    574\u001b[0m         (\u001b[38;5;28mself\u001b[39m,),\n\u001b[1;32m   (...)\u001b[0m\n\u001b[0;32m    579\u001b[0m         inputs\u001b[38;5;241m=\u001b[39minputs,\n\u001b[0;32m    580\u001b[0m     )\n\u001b[1;32m--> 581\u001b[0m \u001b[43mtorch\u001b[49m\u001b[38;5;241;43m.\u001b[39;49m\u001b[43mautograd\u001b[49m\u001b[38;5;241;43m.\u001b[39;49m\u001b[43mbackward\u001b[49m\u001b[43m(\u001b[49m\n\u001b[0;32m    582\u001b[0m \u001b[43m    \u001b[49m\u001b[38;5;28;43mself\u001b[39;49m\u001b[43m,\u001b[49m\u001b[43m \u001b[49m\u001b[43mgradient\u001b[49m\u001b[43m,\u001b[49m\u001b[43m \u001b[49m\u001b[43mretain_graph\u001b[49m\u001b[43m,\u001b[49m\u001b[43m \u001b[49m\u001b[43mcreate_graph\u001b[49m\u001b[43m,\u001b[49m\u001b[43m \u001b[49m\u001b[43minputs\u001b[49m\u001b[38;5;241;43m=\u001b[39;49m\u001b[43minputs\u001b[49m\n\u001b[0;32m    583\u001b[0m \u001b[43m\u001b[49m\u001b[43m)\u001b[49m\n",
      "File \u001b[1;32mc:\\Users\\redbi\\AppData\\Local\\Programs\\Python\\Python312\\Lib\\site-packages\\torch\\autograd\\__init__.py:347\u001b[0m, in \u001b[0;36mbackward\u001b[1;34m(tensors, grad_tensors, retain_graph, create_graph, grad_variables, inputs)\u001b[0m\n\u001b[0;32m    342\u001b[0m     retain_graph \u001b[38;5;241m=\u001b[39m create_graph\n\u001b[0;32m    344\u001b[0m \u001b[38;5;66;03m# The reason we repeat the same comment below is that\u001b[39;00m\n\u001b[0;32m    345\u001b[0m \u001b[38;5;66;03m# some Python versions print out the first line of a multi-line function\u001b[39;00m\n\u001b[0;32m    346\u001b[0m \u001b[38;5;66;03m# calls in the traceback and some print out the last line\u001b[39;00m\n\u001b[1;32m--> 347\u001b[0m \u001b[43m_engine_run_backward\u001b[49m\u001b[43m(\u001b[49m\n\u001b[0;32m    348\u001b[0m \u001b[43m    \u001b[49m\u001b[43mtensors\u001b[49m\u001b[43m,\u001b[49m\n\u001b[0;32m    349\u001b[0m \u001b[43m    \u001b[49m\u001b[43mgrad_tensors_\u001b[49m\u001b[43m,\u001b[49m\n\u001b[0;32m    350\u001b[0m \u001b[43m    \u001b[49m\u001b[43mretain_graph\u001b[49m\u001b[43m,\u001b[49m\n\u001b[0;32m    351\u001b[0m \u001b[43m    \u001b[49m\u001b[43mcreate_graph\u001b[49m\u001b[43m,\u001b[49m\n\u001b[0;32m    352\u001b[0m \u001b[43m    \u001b[49m\u001b[43minputs\u001b[49m\u001b[43m,\u001b[49m\n\u001b[0;32m    353\u001b[0m \u001b[43m    \u001b[49m\u001b[43mallow_unreachable\u001b[49m\u001b[38;5;241;43m=\u001b[39;49m\u001b[38;5;28;43;01mTrue\u001b[39;49;00m\u001b[43m,\u001b[49m\n\u001b[0;32m    354\u001b[0m \u001b[43m    \u001b[49m\u001b[43maccumulate_grad\u001b[49m\u001b[38;5;241;43m=\u001b[39;49m\u001b[38;5;28;43;01mTrue\u001b[39;49;00m\u001b[43m,\u001b[49m\n\u001b[0;32m    355\u001b[0m \u001b[43m\u001b[49m\u001b[43m)\u001b[49m\n",
      "File \u001b[1;32mc:\\Users\\redbi\\AppData\\Local\\Programs\\Python\\Python312\\Lib\\site-packages\\torch\\autograd\\graph.py:825\u001b[0m, in \u001b[0;36m_engine_run_backward\u001b[1;34m(t_outputs, *args, **kwargs)\u001b[0m\n\u001b[0;32m    823\u001b[0m     unregister_hooks \u001b[38;5;241m=\u001b[39m _register_logging_hooks_on_whole_graph(t_outputs)\n\u001b[0;32m    824\u001b[0m \u001b[38;5;28;01mtry\u001b[39;00m:\n\u001b[1;32m--> 825\u001b[0m     \u001b[38;5;28;01mreturn\u001b[39;00m \u001b[43mVariable\u001b[49m\u001b[38;5;241;43m.\u001b[39;49m\u001b[43m_execution_engine\u001b[49m\u001b[38;5;241;43m.\u001b[39;49m\u001b[43mrun_backward\u001b[49m\u001b[43m(\u001b[49m\u001b[43m  \u001b[49m\u001b[38;5;66;43;03m# Calls into the C++ engine to run the backward pass\u001b[39;49;00m\n\u001b[0;32m    826\u001b[0m \u001b[43m        \u001b[49m\u001b[43mt_outputs\u001b[49m\u001b[43m,\u001b[49m\u001b[43m \u001b[49m\u001b[38;5;241;43m*\u001b[39;49m\u001b[43margs\u001b[49m\u001b[43m,\u001b[49m\u001b[43m \u001b[49m\u001b[38;5;241;43m*\u001b[39;49m\u001b[38;5;241;43m*\u001b[39;49m\u001b[43mkwargs\u001b[49m\n\u001b[0;32m    827\u001b[0m \u001b[43m    \u001b[49m\u001b[43m)\u001b[49m  \u001b[38;5;66;03m# Calls into the C++ engine to run the backward pass\u001b[39;00m\n\u001b[0;32m    828\u001b[0m \u001b[38;5;28;01mfinally\u001b[39;00m:\n\u001b[0;32m    829\u001b[0m     \u001b[38;5;28;01mif\u001b[39;00m attach_logging_hooks:\n",
      "\u001b[1;31mKeyboardInterrupt\u001b[0m: "
     ]
    }
   ],
   "source": [
    "\n",
    "device = \"cuda\" if torch.cuda.is_available else \"cpu\"\n",
    "print(f\"Using '{device}' device\")\n",
    "\n",
    "FRAMES_PER_BATCH = 24\n",
    "\n",
    "model = ESPCN(3).cuda()\n",
    "criterion = nn.MSELoss()\n",
    "optimizer = torch.optim.Adam(model.parameters())\n",
    "\n",
    "model.train()\n",
    "for epoch in range(10):\n",
    "\n",
    "    capture360 = cv2.VideoCapture(\"./Data/Baseball360p.mp4\")\n",
    "    capture1080 = cv2.VideoCapture(\"./Data/Baseball1080p.mp4\")\n",
    "\n",
    "    # capture360 = cv2.VideoCapture(\"./Data/clip360p.mp4\")\n",
    "    # capture1080 = cv2.VideoCapture(\"./Data/clip1080p.mp4\")\n",
    "\n",
    "    totalLoss = 0\n",
    "    bEnd = False\n",
    "    while True:\n",
    "        frames360 = []\n",
    "        frames1080 = []\n",
    "\n",
    "        for i in range(FRAMES_PER_BATCH):\n",
    "            bSuccess360, frame360 = capture360.read()\n",
    "            bSuccess1080, frame1080 = capture1080.read()\n",
    "            \n",
    "            bEnd = not bSuccess360 or not bSuccess1080\n",
    "            if bEnd:\n",
    "                break\n",
    "\n",
    "            frames360.append(frame360)\n",
    "            frames1080.append(frame1080)\n",
    "\n",
    "            del frame360\n",
    "            del frame1080\n",
    "\n",
    "        len360 = len(frames360)\n",
    "        len1080 = len(frames1080)\n",
    "        if bEnd and (len360 == 0 or len1080 == 0):\n",
    "            del frames360\n",
    "            del frames1080\n",
    "            break\n",
    "\n",
    "        inputFrames = np.array(frames360)\n",
    "        targetFrames = np.array(frames1080)\n",
    "\n",
    "        del frames360\n",
    "        del frames1080\n",
    "\n",
    "        inputY = []\n",
    "        targetY = []\n",
    "\n",
    "        max = np.max([len360, len1080])\n",
    "        for i in range(max):\n",
    "            inputYCrCb = cv2.cvtColor(inputFrames[i], cv2.COLOR_BGR2YCrCb)\n",
    "            targetYCrCb = cv2.cvtColor(targetFrames[i], cv2.COLOR_BGR2YCrCb)\n",
    "\n",
    "            inputY.append(inputYCrCb[:, :, 0])\n",
    "            targetY.append(targetYCrCb[:, :, 0])\n",
    "\n",
    "            del inputYCrCb\n",
    "            del targetYCrCb\n",
    "\n",
    "        del inputFrames\n",
    "        del targetFrames\n",
    "\n",
    "        inputYNumpy = np.array(inputY)\n",
    "        targetYNumpy = np.array(targetY)\n",
    "\n",
    "        del inputY\n",
    "        del targetY\n",
    "\n",
    "        inputTensor = (torch.from_numpy(inputYNumpy).float().unsqueeze(1) / 255.0).cuda()\n",
    "        targetTensor = (torch.from_numpy(targetYNumpy).float().unsqueeze(1) / 255.0).cuda()\n",
    "\n",
    "        del inputYNumpy\n",
    "        del targetYNumpy\n",
    "\n",
    "        output = model(inputTensor)\n",
    "        loss = criterion(output, targetTensor)\n",
    "\n",
    "        optimizer.zero_grad()\n",
    "        loss.backward()\n",
    "        optimizer.step()\n",
    "\n",
    "        totalLoss += loss.item()\n",
    "\n",
    "        del inputTensor\n",
    "        del targetTensor\n",
    "        del output\n",
    "        torch.cuda.empty_cache()\n",
    "    \n",
    "    print(f\"Epoch: {epoch}, Loss: {totalLoss}\")\n",
    "\n",
    "    capture1080.release()\n",
    "    capture360.release()\n",
    "\n",
    "torch.save(model.state_dict(), \"ESPCN.pth\")"
   ]
  },
  {
   "cell_type": "code",
   "execution_count": 4,
   "metadata": {},
   "outputs": [
    {
     "name": "stderr",
     "output_type": "stream",
     "text": [
      "C:\\Users\\redbi\\AppData\\Local\\Temp\\ipykernel_9132\\2107079633.py:2: FutureWarning: You are using `torch.load` with `weights_only=False` (the current default value), which uses the default pickle module implicitly. It is possible to construct malicious pickle data which will execute arbitrary code during unpickling (See https://github.com/pytorch/pytorch/blob/main/SECURITY.md#untrusted-models for more details). In a future release, the default value for `weights_only` will be flipped to `True`. This limits the functions that could be executed during unpickling. Arbitrary objects will no longer be allowed to be loaded via this mode unless they are explicitly allowlisted by the user via `torch.serialization.add_safe_globals`. We recommend you start setting `weights_only=True` for any use case where you don't have full control of the loaded file. Please open an issue on GitHub for any issues related to this experimental feature.\n",
      "  model.load_state_dict(torch.load(\"ESPCN.pth\", map_location = \"cuda\"))\n"
     ]
    }
   ],
   "source": [
    "model = ESPCN(3)\n",
    "model.load_state_dict(torch.load(\"ESPCN.pth\", map_location = \"cuda\"))\n",
    "model = model.cuda()\n",
    "model.eval()\n",
    "\n",
    "capture360 = cv2.VideoCapture(\"./Data/TestBaseball360p.mp4\")\n",
    "capture1080 = cv2.VideoCapture(\"./Data/TestBaseball1080p.mp4\")\n",
    "\n",
    "cv2.namedWindow(\"SuperResolution\", cv2.WINDOW_NORMAL)\n",
    "while True:\n",
    "    bSuccess360, frame360 = capture360.read()\n",
    "    bSuccess1080, frame1080 = capture1080.read()\n",
    "    \n",
    "    bEnd = not bSuccess360 or not bSuccess1080\n",
    "    if bEnd:\n",
    "        break\n",
    "\n",
    "    yCrCb = cv2.cvtColor(frame360, cv2.COLOR_BGR2YCrCb)\n",
    "    y = yCrCb[:, :, 0]\n",
    "    cr = yCrCb[:, :, 1]\n",
    "    cb = yCrCb[:, :, 2]\n",
    "    \n",
    "    yTensor = torch.from_numpy(y).float().unsqueeze(0).unsqueeze(0) / 255.0\n",
    "    yTensor = yTensor.cuda()\n",
    "    \n",
    "    with torch.no_grad():\n",
    "        outputY = model(yTensor).clamp(0.0, 1.0)\n",
    "        \n",
    "    outputY = outputY.squeeze().cpu().numpy() * 255.0\n",
    "    outputY = outputY.astype(np.uint8)\n",
    "\n",
    "    height, width = outputY.shape\n",
    "    crTensor = torch.from_numpy(cr).unsqueeze(0).unsqueeze(0) / 255.0\n",
    "    crTensor = crTensor.cuda()\n",
    "\n",
    "    resizedCr = F.interpolate(crTensor, size = (height, width), mode = \"bicubic\", align_corners = False)\n",
    "\n",
    "    crUp = (resizedCr.squeeze().clamp(0.0, 1.0) * 255).byte().cpu().numpy()\n",
    "\n",
    "    cbTensor = torch.from_numpy(cb).unsqueeze(0).unsqueeze(0) / 255.0\n",
    "    cbTensor = cbTensor.cuda()\n",
    "\n",
    "    resizedCb = F.interpolate(cbTensor, size = (height, width), mode = \"bicubic\", align_corners = False)\n",
    "\n",
    "    cbUp = (resizedCb.squeeze().clamp(0.0, 1.0) * 255).byte().cpu().numpy()\n",
    "\n",
    "    yCrCbUp = cv2.merge([outputY, crUp, cbUp])\n",
    "    rgbUpscaled = cv2.cvtColor(yCrCbUp, cv2.COLOR_YCrCb2BGR)\n",
    "\n",
    "    combined = np.hstack((frame1080, rgbUpscaled))\n",
    "\n",
    "    cv2.imshow(\"SuperResolution\", combined)\n",
    "        \n",
    "    if cv2.waitKey(33) & 0xFF == ord('q'):\n",
    "        break;\n",
    "\n",
    "cv2.destroyAllWindows()\n",
    "\n",
    "capture1080.release()\n",
    "capture360.release()"
   ]
  },
  {
   "cell_type": "code",
   "execution_count": 3,
   "metadata": {},
   "outputs": [
    {
     "name": "stdout",
     "output_type": "stream",
     "text": [
      "Collecting onnx\n",
      "  Downloading onnx-1.17.0-cp312-cp312-win_amd64.whl.metadata (16 kB)\n",
      "Requirement already satisfied: numpy>=1.20 in c:\\users\\redbi\\appdata\\local\\programs\\python\\python312\\lib\\site-packages (from onnx) (1.26.4)\n",
      "Requirement already satisfied: protobuf>=3.20.2 in c:\\users\\redbi\\appdata\\local\\programs\\python\\python312\\lib\\site-packages (from onnx) (4.25.6)\n",
      "Downloading onnx-1.17.0-cp312-cp312-win_amd64.whl (14.5 MB)\n",
      "   ---------------------------------------- 0.0/14.5 MB ? eta -:--:--\n",
      "   -------------------------------------- - 13.9/14.5 MB 79.3 MB/s eta 0:00:01\n",
      "   ---------------------------------------- 14.5/14.5 MB 65.2 MB/s eta 0:00:00\n",
      "Installing collected packages: onnx\n",
      "Successfully installed onnx-1.17.0\n",
      "Note: you may need to restart the kernel to use updated packages.\n"
     ]
    },
    {
     "name": "stderr",
     "output_type": "stream",
     "text": [
      "\n",
      "[notice] A new release of pip is available: 25.0.1 -> 25.1.1\n",
      "[notice] To update, run: python.exe -m pip install --upgrade pip\n"
     ]
    }
   ],
   "source": [
    "%pip install onnx"
   ]
  },
  {
   "cell_type": "code",
   "execution_count": 4,
   "metadata": {},
   "outputs": [
    {
     "name": "stderr",
     "output_type": "stream",
     "text": [
      "C:\\Users\\Public\\Documents\\ESTsoft\\CreatorTemp\\ipykernel_14024\\3835322928.py:5: FutureWarning: You are using `torch.load` with `weights_only=False` (the current default value), which uses the default pickle module implicitly. It is possible to construct malicious pickle data which will execute arbitrary code during unpickling (See https://github.com/pytorch/pytorch/blob/main/SECURITY.md#untrusted-models for more details). In a future release, the default value for `weights_only` will be flipped to `True`. This limits the functions that could be executed during unpickling. Arbitrary objects will no longer be allowed to be loaded via this mode unless they are explicitly allowlisted by the user via `torch.serialization.add_safe_globals`. We recommend you start setting `weights_only=True` for any use case where you don't have full control of the loaded file. Please open an issue on GitHub for any issues related to this experimental feature.\n",
      "  model.load_state_dict(torch.load(\"ESPCN.pth\", map_location=\"cpu\"))\n"
     ]
    },
    {
     "name": "stdout",
     "output_type": "stream",
     "text": [
      "ONNX 변환 완료: ESPCN.onnx\n"
     ]
    }
   ],
   "source": [
    "import torch\n",
    "\n",
    "scale = 3\n",
    "model = ESPCN(scale)\n",
    "model.load_state_dict(torch.load(\"ESPCN.pth\", map_location=\"cpu\"))\n",
    "model.eval()\n",
    "\n",
    "dummy_input = torch.randn(1, 1, 360, 640)\n",
    "\n",
    "# 4. ONNX로 변환\n",
    "torch.onnx.export(\n",
    "    model,\n",
    "    dummy_input,\n",
    "    \"ESPCN.onnx\",\n",
    "    input_names=[\"input\"],\n",
    "    output_names=[\"output\"],\n",
    "    dynamic_axes={\"input\": {0: \"batch_size\"}, \"output\": {0: \"batch_size\"}},\n",
    "    opset_version=11  # ONNX 변환 최소 버전은 11 이상을 권장\n",
    ")\n",
    "\n",
    "print(\"ONNX 변환 완료: ESPCN.onnx\")"
   ]
  }
 ],
 "metadata": {
  "kernelspec": {
   "display_name": "Python 3",
   "language": "python",
   "name": "python3"
  },
  "language_info": {
   "codemirror_mode": {
    "name": "ipython",
    "version": 3
   },
   "file_extension": ".py",
   "mimetype": "text/x-python",
   "name": "python",
   "nbconvert_exporter": "python",
   "pygments_lexer": "ipython3",
   "version": "3.12.8"
  }
 },
 "nbformat": 4,
 "nbformat_minor": 2
}
