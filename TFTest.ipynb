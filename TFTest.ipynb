{
 "cells": [
  {
   "cell_type": "code",
   "execution_count": 2,
   "id": "e8d1e466",
   "metadata": {},
   "outputs": [
    {
     "name": "stdout",
     "output_type": "stream",
     "text": [
      "Collecting tensorflow_probability==0.17.0\n",
      "  Downloading tensorflow_probability-0.17.0-py2.py3-none-any.whl.metadata (13 kB)\n",
      "Requirement already satisfied: absl-py in /root/anaconda3/envs/python/lib/python3.9/site-packages (from tensorflow_probability==0.17.0) (2.2.2)\n",
      "Requirement already satisfied: six>=1.10.0 in /root/anaconda3/envs/python/lib/python3.9/site-packages (from tensorflow_probability==0.17.0) (1.17.0)\n",
      "Requirement already satisfied: numpy>=1.13.3 in /root/anaconda3/envs/python/lib/python3.9/site-packages (from tensorflow_probability==0.17.0) (1.26.4)\n",
      "Requirement already satisfied: decorator in /root/anaconda3/envs/python/lib/python3.9/site-packages (from tensorflow_probability==0.17.0) (5.2.1)\n",
      "Requirement already satisfied: cloudpickle>=1.3 in /root/anaconda3/envs/python/lib/python3.9/site-packages (from tensorflow_probability==0.17.0) (3.1.1)\n",
      "Requirement already satisfied: gast>=0.3.2 in /root/anaconda3/envs/python/lib/python3.9/site-packages (from tensorflow_probability==0.17.0) (0.4.0)\n",
      "Requirement already satisfied: dm-tree in /root/anaconda3/envs/python/lib/python3.9/site-packages (from tensorflow_probability==0.17.0) (0.1.8)\n",
      "Downloading tensorflow_probability-0.17.0-py2.py3-none-any.whl (6.5 MB)\n",
      "\u001b[2K   \u001b[90m━━━━━━━━━━━━━━━━━━━━━━━━━━━━━━━━━━━━━━━━\u001b[0m \u001b[32m6.5/6.5 MB\u001b[0m \u001b[31m35.5 MB/s\u001b[0m eta \u001b[36m0:00:00\u001b[0ma \u001b[36m0:00:01\u001b[0m\n",
      "\u001b[?25hInstalling collected packages: tensorflow_probability\n",
      "Successfully installed tensorflow_probability-0.17.0\n",
      "\u001b[33mWARNING: Running pip as the 'root' user can result in broken permissions and conflicting behaviour with the system package manager, possibly rendering your system unusable. It is recommended to use a virtual environment instead: https://pip.pypa.io/warnings/venv. Use the --root-user-action option if you know what you are doing and want to suppress this warning.\u001b[0m\u001b[33m\n",
      "\u001b[0mNote: you may need to restart the kernel to use updated packages.\n"
     ]
    }
   ],
   "source": [
    "%pip install tensorflow_probability==0.17.0"
   ]
  },
  {
   "cell_type": "code",
   "execution_count": 5,
   "id": "24aa7986",
   "metadata": {},
   "outputs": [
    {
     "name": "stderr",
     "output_type": "stream",
     "text": [
      "WARNING:absl:Found untraced functions such as gen_tensor_dict while saving (showing 1 of 1). These functions will not be directly callable after loading.\n"
     ]
    },
    {
     "name": "stdout",
     "output_type": "stream",
     "text": [
      "INFO:tensorflow:Assets written to: espcn_saved_model/assets\n"
     ]
    },
    {
     "name": "stderr",
     "output_type": "stream",
     "text": [
      "INFO:tensorflow:Assets written to: espcn_saved_model/assets\n",
      "2025-05-05 21:56:21.659370: W tensorflow/compiler/mlir/lite/python/tf_tfl_flatbuffer_helpers.cc:362] Ignored output_format.\n",
      "2025-05-05 21:56:21.659507: W tensorflow/compiler/mlir/lite/python/tf_tfl_flatbuffer_helpers.cc:365] Ignored drop_control_dependency.\n",
      "2025-05-05 21:56:21.659659: I tensorflow/cc/saved_model/reader.cc:45] Reading SavedModel from: espcn_saved_model\n",
      "2025-05-05 21:56:21.660648: I tensorflow/cc/saved_model/reader.cc:89] Reading meta graph with tags { serve }\n",
      "2025-05-05 21:56:21.660697: I tensorflow/cc/saved_model/reader.cc:130] Reading SavedModel debug info (if present) from: espcn_saved_model\n",
      "2025-05-05 21:56:21.663101: I tensorflow/cc/saved_model/loader.cc:229] Restoring SavedModel bundle.\n",
      "2025-05-05 21:56:21.675625: I tensorflow/cc/saved_model/loader.cc:213] Running initialization op on SavedModel bundle at path: espcn_saved_model\n",
      "2025-05-05 21:56:21.682044: I tensorflow/cc/saved_model/loader.cc:305] SavedModel load for tags { serve }; Status: success: OK. Took 22386 microseconds.\n",
      "2025-05-05 21:56:21.717672: W tensorflow/compiler/mlir/lite/flatbuffer_export.cc:2046] TFLite interpreter needs to link Flex delegate in order to run the model since it contains the following Select TFop(s):\n",
      "Flex ops: FlexTranspose\n",
      "Details:\n",
      "\ttf.Transpose(tensor<?x1x3x3x360x640xf32>, tensor<6xi32>) -> (tensor<?x1x360x3x640x3xf32>) : {device = \"\"}\n",
      "See instructions: https://www.tensorflow.org/lite/guide/ops_select\n"
     ]
    }
   ],
   "source": [
    "import onnx\n",
    "from onnx_tf.backend import prepare\n",
    "import tensorflow as tf\n",
    "\n",
    "# 1. ONNX 모델 로드\n",
    "onnx_model = onnx.load(\"ESPCN.onnx\")\n",
    "\n",
    "# 2. TensorFlow SavedModel로 변환\n",
    "tf_rep = prepare(onnx_model)\n",
    "tf_rep.export_graph(\"espcn_saved_model\")\n",
    "\n",
    "# 3. TFLite 변환 - SELECT_TF_OPS 허용 (에러 방지용)\n",
    "converter = tf.lite.TFLiteConverter.from_saved_model(\"espcn_saved_model\")\n",
    "converter.target_spec.supported_ops = [\n",
    "    tf.lite.OpsSet.TFLITE_BUILTINS,\n",
    "    tf.lite.OpsSet.SELECT_TF_OPS  # ✅ TF 연산 허용\n",
    "]\n",
    "tflite_model = converter.convert()\n",
    "\n",
    "# 4. 저장\n",
    "with open(\"ESPCN_select_ops.tflite\", \"wb\") as f:\n",
    "    f.write(tflite_model)\n"
   ]
  }
 ],
 "metadata": {
  "kernelspec": {
   "display_name": "python",
   "language": "python",
   "name": "python3"
  },
  "language_info": {
   "codemirror_mode": {
    "name": "ipython",
    "version": 3
   },
   "file_extension": ".py",
   "mimetype": "text/x-python",
   "name": "python",
   "nbconvert_exporter": "python",
   "pygments_lexer": "ipython3",
   "version": "3.9.0"
  }
 },
 "nbformat": 4,
 "nbformat_minor": 5
}
